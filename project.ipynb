{
 "cells": [
  {
   "cell_type": "markdown",
   "metadata": {},
   "source": [
    "**Steps:**\n",
    "\n",
    "- Importing modules\n",
    "- Data acquisition\n",
    "- Data visualisation\n",
    "- Data preprocessing\n",
    "- Data train\n",
    "- Data test"
   ]
  },
  {
   "cell_type": "markdown",
   "metadata": {},
   "source": [
    "# Importing Modules"
   ]
  },
  {
   "cell_type": "code",
   "execution_count": 38,
   "metadata": {},
   "outputs": [],
   "source": [
    "import pandas as pd\n",
    "import matplotlib.pyplot as plt\n",
    "import seaborn as sns"
   ]
  },
  {
   "cell_type": "markdown",
   "metadata": {},
   "source": [
    "# Data acquisition\n",
    "\n",
    "reading excel as a dataframe"
   ]
  },
  {
   "cell_type": "code",
   "execution_count": 39,
   "metadata": {},
   "outputs": [],
   "source": [
    "df = pd.read_excel('House_Rent_Train.xlsx')"
   ]
  },
  {
   "cell_type": "markdown",
   "metadata": {},
   "source": [
    "# Data reading & plotting\n",
    "\n",
    "sneak-peek at the given data"
   ]
  },
  {
   "cell_type": "code",
   "execution_count": 40,
   "metadata": {},
   "outputs": [
    {
     "data": {
      "text/html": [
       "<div>\n",
       "<style scoped>\n",
       "    .dataframe tbody tr th:only-of-type {\n",
       "        vertical-align: middle;\n",
       "    }\n",
       "\n",
       "    .dataframe tbody tr th {\n",
       "        vertical-align: top;\n",
       "    }\n",
       "\n",
       "    .dataframe thead th {\n",
       "        text-align: right;\n",
       "    }\n",
       "</style>\n",
       "<table border=\"1\" class=\"dataframe\">\n",
       "  <thead>\n",
       "    <tr style=\"text-align: right;\">\n",
       "      <th></th>\n",
       "      <th>id</th>\n",
       "      <th>type</th>\n",
       "      <th>locality</th>\n",
       "      <th>activation_date</th>\n",
       "      <th>latitude</th>\n",
       "      <th>longitude</th>\n",
       "      <th>lease_type</th>\n",
       "      <th>gym</th>\n",
       "      <th>lift</th>\n",
       "      <th>swimming_pool</th>\n",
       "      <th>...</th>\n",
       "      <th>bathroom</th>\n",
       "      <th>facing</th>\n",
       "      <th>cup_board</th>\n",
       "      <th>floor</th>\n",
       "      <th>total_floor</th>\n",
       "      <th>amenities</th>\n",
       "      <th>water_supply</th>\n",
       "      <th>building_type</th>\n",
       "      <th>balconies</th>\n",
       "      <th>rent</th>\n",
       "    </tr>\n",
       "  </thead>\n",
       "  <tbody>\n",
       "    <tr>\n",
       "      <th>0</th>\n",
       "      <td>ff8081815733a243015733b2876600a6</td>\n",
       "      <td>BHK2</td>\n",
       "      <td>NaN</td>\n",
       "      <td>21-04-2018 14:44</td>\n",
       "      <td>12.934471</td>\n",
       "      <td>77.634471</td>\n",
       "      <td>FAMILY</td>\n",
       "      <td>1</td>\n",
       "      <td>1</td>\n",
       "      <td>1</td>\n",
       "      <td>...</td>\n",
       "      <td>2.0</td>\n",
       "      <td>E</td>\n",
       "      <td>2.0</td>\n",
       "      <td>6.0</td>\n",
       "      <td>12.0</td>\n",
       "      <td>{\"LIFT\":true,\"GYM\":true,\"INTERNET\":true,\"AC\":f...</td>\n",
       "      <td>CORP_BORE</td>\n",
       "      <td>AP</td>\n",
       "      <td>2.0</td>\n",
       "      <td>40000.0</td>\n",
       "    </tr>\n",
       "    <tr>\n",
       "      <th>1</th>\n",
       "      <td>ff8081815ee25e15015ee50004da2acd</td>\n",
       "      <td>BHK2</td>\n",
       "      <td>Bellandur</td>\n",
       "      <td>2017-09-10 12:48:00</td>\n",
       "      <td>12.929557</td>\n",
       "      <td>77.672280</td>\n",
       "      <td>ANYONE</td>\n",
       "      <td>0</td>\n",
       "      <td>1</td>\n",
       "      <td>0</td>\n",
       "      <td>...</td>\n",
       "      <td>2.0</td>\n",
       "      <td>NE</td>\n",
       "      <td>2.0</td>\n",
       "      <td>3.0</td>\n",
       "      <td>4.0</td>\n",
       "      <td>{\"LIFT\":true,\"GYM\":false,\"INTERNET\":false,\"AC\"...</td>\n",
       "      <td>CORPORATION</td>\n",
       "      <td>AP</td>\n",
       "      <td>2.0</td>\n",
       "      <td>22000.0</td>\n",
       "    </tr>\n",
       "    <tr>\n",
       "      <th>2</th>\n",
       "      <td>ff80818163f29c9e0163f46770b873e7</td>\n",
       "      <td>BHK3</td>\n",
       "      <td>Thiruvanmiyur</td>\n",
       "      <td>2018-12-06 22:02:00</td>\n",
       "      <td>12.982870</td>\n",
       "      <td>80.262012</td>\n",
       "      <td>FAMILY</td>\n",
       "      <td>0</td>\n",
       "      <td>1</td>\n",
       "      <td>0</td>\n",
       "      <td>...</td>\n",
       "      <td>3.0</td>\n",
       "      <td>E</td>\n",
       "      <td>3.0</td>\n",
       "      <td>1.0</td>\n",
       "      <td>5.0</td>\n",
       "      <td>{\"LIFT\":true,\"GYM\":false,\"INTERNET\":false,\"AC\"...</td>\n",
       "      <td>CORP_BORE</td>\n",
       "      <td>AP</td>\n",
       "      <td>3.0</td>\n",
       "      <td>28000.0</td>\n",
       "    </tr>\n",
       "    <tr>\n",
       "      <th>3</th>\n",
       "      <td>ff80818164b68a700164b74b1b247a1d</td>\n",
       "      <td>BHK1</td>\n",
       "      <td>Attiguppe</td>\n",
       "      <td>20-07-2018 16:22</td>\n",
       "      <td>12.955991</td>\n",
       "      <td>77.531634</td>\n",
       "      <td>FAMILY</td>\n",
       "      <td>0</td>\n",
       "      <td>0</td>\n",
       "      <td>0</td>\n",
       "      <td>...</td>\n",
       "      <td>1.0</td>\n",
       "      <td>E</td>\n",
       "      <td>1.0</td>\n",
       "      <td>1.0</td>\n",
       "      <td>2.0</td>\n",
       "      <td>{\"LIFT\":false,\"GYM\":false,\"INTERNET\":false,\"AC...</td>\n",
       "      <td>CORPORATION</td>\n",
       "      <td>IH</td>\n",
       "      <td>0.0</td>\n",
       "      <td>8000.0</td>\n",
       "    </tr>\n",
       "    <tr>\n",
       "      <th>4</th>\n",
       "      <td>ff80818163b1faf00163b4b9b8a163b1</td>\n",
       "      <td>BHK3</td>\n",
       "      <td>Kodihalli</td>\n",
       "      <td>31-05-2018 17:41</td>\n",
       "      <td>12.963903</td>\n",
       "      <td>77.649446</td>\n",
       "      <td>FAMILY</td>\n",
       "      <td>0</td>\n",
       "      <td>0</td>\n",
       "      <td>0</td>\n",
       "      <td>...</td>\n",
       "      <td>3.0</td>\n",
       "      <td>E</td>\n",
       "      <td>4.0</td>\n",
       "      <td>0.0</td>\n",
       "      <td>0.0</td>\n",
       "      <td>{\"LIFT\":false,\"GYM\":false,\"INTERNET\":false,\"AC...</td>\n",
       "      <td>CORPORATION</td>\n",
       "      <td>IH</td>\n",
       "      <td>1.0</td>\n",
       "      <td>45000.0</td>\n",
       "    </tr>\n",
       "  </tbody>\n",
       "</table>\n",
       "<p>5 rows × 25 columns</p>\n",
       "</div>"
      ],
      "text/plain": [
       "                                 id  type       locality      activation_date  \\\n",
       "0  ff8081815733a243015733b2876600a6  BHK2            NaN     21-04-2018 14:44   \n",
       "1  ff8081815ee25e15015ee50004da2acd  BHK2      Bellandur  2017-09-10 12:48:00   \n",
       "2  ff80818163f29c9e0163f46770b873e7  BHK3  Thiruvanmiyur  2018-12-06 22:02:00   \n",
       "3  ff80818164b68a700164b74b1b247a1d  BHK1      Attiguppe     20-07-2018 16:22   \n",
       "4  ff80818163b1faf00163b4b9b8a163b1  BHK3      Kodihalli     31-05-2018 17:41   \n",
       "\n",
       "    latitude  longitude lease_type  gym  lift  swimming_pool  ...  bathroom  \\\n",
       "0  12.934471  77.634471     FAMILY    1     1              1  ...       2.0   \n",
       "1  12.929557  77.672280     ANYONE    0     1              0  ...       2.0   \n",
       "2  12.982870  80.262012     FAMILY    0     1              0  ...       3.0   \n",
       "3  12.955991  77.531634     FAMILY    0     0              0  ...       1.0   \n",
       "4  12.963903  77.649446     FAMILY    0     0              0  ...       3.0   \n",
       "\n",
       "  facing cup_board  floor  total_floor  \\\n",
       "0      E       2.0    6.0         12.0   \n",
       "1     NE       2.0    3.0          4.0   \n",
       "2      E       3.0    1.0          5.0   \n",
       "3      E       1.0    1.0          2.0   \n",
       "4      E       4.0    0.0          0.0   \n",
       "\n",
       "                                           amenities water_supply  \\\n",
       "0  {\"LIFT\":true,\"GYM\":true,\"INTERNET\":true,\"AC\":f...    CORP_BORE   \n",
       "1  {\"LIFT\":true,\"GYM\":false,\"INTERNET\":false,\"AC\"...  CORPORATION   \n",
       "2  {\"LIFT\":true,\"GYM\":false,\"INTERNET\":false,\"AC\"...    CORP_BORE   \n",
       "3  {\"LIFT\":false,\"GYM\":false,\"INTERNET\":false,\"AC...  CORPORATION   \n",
       "4  {\"LIFT\":false,\"GYM\":false,\"INTERNET\":false,\"AC...  CORPORATION   \n",
       "\n",
       "   building_type  balconies     rent  \n",
       "0             AP        2.0  40000.0  \n",
       "1             AP        2.0  22000.0  \n",
       "2             AP        3.0  28000.0  \n",
       "3             IH        0.0   8000.0  \n",
       "4             IH        1.0  45000.0  \n",
       "\n",
       "[5 rows x 25 columns]"
      ]
     },
     "execution_count": 40,
     "metadata": {},
     "output_type": "execute_result"
    }
   ],
   "source": [
    "df.head()"
   ]
  },
  {
   "cell_type": "code",
   "execution_count": 41,
   "metadata": {},
   "outputs": [
    {
     "name": "stdout",
     "output_type": "stream",
     "text": [
      "<class 'pandas.core.frame.DataFrame'>\n",
      "RangeIndex: 20555 entries, 0 to 20554\n",
      "Data columns (total 25 columns):\n",
      " #   Column           Non-Null Count  Dtype  \n",
      "---  ------           --------------  -----  \n",
      " 0   id               20555 non-null  object \n",
      " 1   type             20528 non-null  object \n",
      " 2   locality         20395 non-null  object \n",
      " 3   activation_date  20532 non-null  object \n",
      " 4   latitude         20532 non-null  float64\n",
      " 5   longitude        20532 non-null  float64\n",
      " 6   lease_type       20532 non-null  object \n",
      " 7   gym              20555 non-null  int64  \n",
      " 8   lift             20555 non-null  int64  \n",
      " 9   swimming_pool    20555 non-null  int64  \n",
      " 10  negotiable       20555 non-null  int64  \n",
      " 11  furnishing       20555 non-null  object \n",
      " 12  parking          20555 non-null  object \n",
      " 13  property_size    20555 non-null  int64  \n",
      " 14  property_age     20532 non-null  float64\n",
      " 15  bathroom         20532 non-null  float64\n",
      " 16  facing           20532 non-null  object \n",
      " 17  cup_board        20532 non-null  float64\n",
      " 18  floor            20532 non-null  float64\n",
      " 19  total_floor      20532 non-null  float64\n",
      " 20  amenities        20532 non-null  object \n",
      " 21  water_supply     20532 non-null  object \n",
      " 22  building_type    20532 non-null  object \n",
      " 23  balconies        20532 non-null  float64\n",
      " 24  rent             20532 non-null  float64\n",
      "dtypes: float64(9), int64(5), object(11)\n",
      "memory usage: 3.9+ MB\n"
     ]
    }
   ],
   "source": [
    "df.info()"
   ]
  },
  {
   "cell_type": "code",
   "execution_count": 42,
   "metadata": {},
   "outputs": [
    {
     "data": {
      "text/html": [
       "<div>\n",
       "<style scoped>\n",
       "    .dataframe tbody tr th:only-of-type {\n",
       "        vertical-align: middle;\n",
       "    }\n",
       "\n",
       "    .dataframe tbody tr th {\n",
       "        vertical-align: top;\n",
       "    }\n",
       "\n",
       "    .dataframe thead th {\n",
       "        text-align: right;\n",
       "    }\n",
       "</style>\n",
       "<table border=\"1\" class=\"dataframe\">\n",
       "  <thead>\n",
       "    <tr style=\"text-align: right;\">\n",
       "      <th></th>\n",
       "      <th>latitude</th>\n",
       "      <th>longitude</th>\n",
       "      <th>gym</th>\n",
       "      <th>lift</th>\n",
       "      <th>swimming_pool</th>\n",
       "      <th>negotiable</th>\n",
       "      <th>property_size</th>\n",
       "      <th>property_age</th>\n",
       "      <th>bathroom</th>\n",
       "      <th>cup_board</th>\n",
       "      <th>floor</th>\n",
       "      <th>total_floor</th>\n",
       "      <th>balconies</th>\n",
       "      <th>rent</th>\n",
       "    </tr>\n",
       "  </thead>\n",
       "  <tbody>\n",
       "    <tr>\n",
       "      <th>count</th>\n",
       "      <td>20532.000000</td>\n",
       "      <td>20532.000000</td>\n",
       "      <td>20555.000000</td>\n",
       "      <td>20555.000000</td>\n",
       "      <td>20555.000000</td>\n",
       "      <td>20555.000000</td>\n",
       "      <td>20555.000000</td>\n",
       "      <td>20532.000000</td>\n",
       "      <td>20532.000000</td>\n",
       "      <td>20532.000000</td>\n",
       "      <td>20532.000000</td>\n",
       "      <td>20532.000000</td>\n",
       "      <td>20532.000000</td>\n",
       "      <td>20532.000000</td>\n",
       "    </tr>\n",
       "    <tr>\n",
       "      <th>mean</th>\n",
       "      <td>12.945748</td>\n",
       "      <td>77.637295</td>\n",
       "      <td>0.227049</td>\n",
       "      <td>0.362053</td>\n",
       "      <td>0.174848</td>\n",
       "      <td>0.711603</td>\n",
       "      <td>1062.017465</td>\n",
       "      <td>5.769920</td>\n",
       "      <td>1.858465</td>\n",
       "      <td>4.549922</td>\n",
       "      <td>1.874050</td>\n",
       "      <td>3.801335</td>\n",
       "      <td>1.149523</td>\n",
       "      <td>19056.733148</td>\n",
       "    </tr>\n",
       "    <tr>\n",
       "      <th>std</th>\n",
       "      <td>0.029601</td>\n",
       "      <td>0.110525</td>\n",
       "      <td>0.418935</td>\n",
       "      <td>0.480606</td>\n",
       "      <td>0.379846</td>\n",
       "      <td>0.453028</td>\n",
       "      <td>591.207446</td>\n",
       "      <td>6.350989</td>\n",
       "      <td>0.710926</td>\n",
       "      <td>335.154787</td>\n",
       "      <td>2.183982</td>\n",
       "      <td>3.183697</td>\n",
       "      <td>0.993549</td>\n",
       "      <td>8434.029016</td>\n",
       "    </tr>\n",
       "    <tr>\n",
       "      <th>min</th>\n",
       "      <td>12.900004</td>\n",
       "      <td>77.500072</td>\n",
       "      <td>0.000000</td>\n",
       "      <td>0.000000</td>\n",
       "      <td>0.000000</td>\n",
       "      <td>0.000000</td>\n",
       "      <td>1.000000</td>\n",
       "      <td>-1.000000</td>\n",
       "      <td>1.000000</td>\n",
       "      <td>0.000000</td>\n",
       "      <td>0.000000</td>\n",
       "      <td>0.000000</td>\n",
       "      <td>0.000000</td>\n",
       "      <td>8000.000000</td>\n",
       "    </tr>\n",
       "    <tr>\n",
       "      <th>25%</th>\n",
       "      <td>12.918176</td>\n",
       "      <td>77.572068</td>\n",
       "      <td>0.000000</td>\n",
       "      <td>0.000000</td>\n",
       "      <td>0.000000</td>\n",
       "      <td>0.000000</td>\n",
       "      <td>700.000000</td>\n",
       "      <td>1.000000</td>\n",
       "      <td>1.000000</td>\n",
       "      <td>1.000000</td>\n",
       "      <td>1.000000</td>\n",
       "      <td>2.000000</td>\n",
       "      <td>0.000000</td>\n",
       "      <td>12500.000000</td>\n",
       "    </tr>\n",
       "    <tr>\n",
       "      <th>50%</th>\n",
       "      <td>12.943790</td>\n",
       "      <td>77.633506</td>\n",
       "      <td>0.000000</td>\n",
       "      <td>0.000000</td>\n",
       "      <td>0.000000</td>\n",
       "      <td>1.000000</td>\n",
       "      <td>1047.000000</td>\n",
       "      <td>5.000000</td>\n",
       "      <td>2.000000</td>\n",
       "      <td>2.000000</td>\n",
       "      <td>1.000000</td>\n",
       "      <td>3.000000</td>\n",
       "      <td>1.000000</td>\n",
       "      <td>17500.000000</td>\n",
       "    </tr>\n",
       "    <tr>\n",
       "      <th>75%</th>\n",
       "      <td>12.970979</td>\n",
       "      <td>77.695723</td>\n",
       "      <td>0.000000</td>\n",
       "      <td>1.000000</td>\n",
       "      <td>0.000000</td>\n",
       "      <td>1.000000</td>\n",
       "      <td>1285.000000</td>\n",
       "      <td>10.000000</td>\n",
       "      <td>2.000000</td>\n",
       "      <td>3.000000</td>\n",
       "      <td>2.000000</td>\n",
       "      <td>4.000000</td>\n",
       "      <td>2.000000</td>\n",
       "      <td>24000.000000</td>\n",
       "    </tr>\n",
       "    <tr>\n",
       "      <th>max</th>\n",
       "      <td>12.999999</td>\n",
       "      <td>80.266346</td>\n",
       "      <td>1.000000</td>\n",
       "      <td>1.000000</td>\n",
       "      <td>1.000000</td>\n",
       "      <td>1.000000</td>\n",
       "      <td>50000.000000</td>\n",
       "      <td>400.000000</td>\n",
       "      <td>21.000000</td>\n",
       "      <td>48026.000000</td>\n",
       "      <td>25.000000</td>\n",
       "      <td>26.000000</td>\n",
       "      <td>13.000000</td>\n",
       "      <td>50000.000000</td>\n",
       "    </tr>\n",
       "  </tbody>\n",
       "</table>\n",
       "</div>"
      ],
      "text/plain": [
       "           latitude     longitude           gym          lift  swimming_pool  \\\n",
       "count  20532.000000  20532.000000  20555.000000  20555.000000   20555.000000   \n",
       "mean      12.945748     77.637295      0.227049      0.362053       0.174848   \n",
       "std        0.029601      0.110525      0.418935      0.480606       0.379846   \n",
       "min       12.900004     77.500072      0.000000      0.000000       0.000000   \n",
       "25%       12.918176     77.572068      0.000000      0.000000       0.000000   \n",
       "50%       12.943790     77.633506      0.000000      0.000000       0.000000   \n",
       "75%       12.970979     77.695723      0.000000      1.000000       0.000000   \n",
       "max       12.999999     80.266346      1.000000      1.000000       1.000000   \n",
       "\n",
       "         negotiable  property_size  property_age      bathroom     cup_board  \\\n",
       "count  20555.000000   20555.000000  20532.000000  20532.000000  20532.000000   \n",
       "mean       0.711603    1062.017465      5.769920      1.858465      4.549922   \n",
       "std        0.453028     591.207446      6.350989      0.710926    335.154787   \n",
       "min        0.000000       1.000000     -1.000000      1.000000      0.000000   \n",
       "25%        0.000000     700.000000      1.000000      1.000000      1.000000   \n",
       "50%        1.000000    1047.000000      5.000000      2.000000      2.000000   \n",
       "75%        1.000000    1285.000000     10.000000      2.000000      3.000000   \n",
       "max        1.000000   50000.000000    400.000000     21.000000  48026.000000   \n",
       "\n",
       "              floor   total_floor     balconies          rent  \n",
       "count  20532.000000  20532.000000  20532.000000  20532.000000  \n",
       "mean       1.874050      3.801335      1.149523  19056.733148  \n",
       "std        2.183982      3.183697      0.993549   8434.029016  \n",
       "min        0.000000      0.000000      0.000000   8000.000000  \n",
       "25%        1.000000      2.000000      0.000000  12500.000000  \n",
       "50%        1.000000      3.000000      1.000000  17500.000000  \n",
       "75%        2.000000      4.000000      2.000000  24000.000000  \n",
       "max       25.000000     26.000000     13.000000  50000.000000  "
      ]
     },
     "execution_count": 42,
     "metadata": {},
     "output_type": "execute_result"
    }
   ],
   "source": [
    "df.describe()"
   ]
  },
  {
   "cell_type": "markdown",
   "metadata": {},
   "source": [
    "# Data analysis"
   ]
  },
  {
   "cell_type": "markdown",
   "metadata": {},
   "source": [
    "**data columns in dataframe**"
   ]
  },
  {
   "cell_type": "code",
   "execution_count": 43,
   "metadata": {},
   "outputs": [
    {
     "data": {
      "text/plain": [
       "Index(['id', 'type', 'locality', 'activation_date', 'latitude', 'longitude',\n",
       "       'lease_type', 'gym', 'lift', 'swimming_pool', 'negotiable',\n",
       "       'furnishing', 'parking', 'property_size', 'property_age', 'bathroom',\n",
       "       'facing', 'cup_board', 'floor', 'total_floor', 'amenities',\n",
       "       'water_supply', 'building_type', 'balconies', 'rent'],\n",
       "      dtype='object')"
      ]
     },
     "execution_count": 43,
     "metadata": {},
     "output_type": "execute_result"
    }
   ],
   "source": [
    "df.columns"
   ]
  },
  {
   "cell_type": "markdown",
   "metadata": {},
   "source": [
    "**visualisation of rent in figures**"
   ]
  },
  {
   "cell_type": "code",
   "execution_count": 44,
   "metadata": {},
   "outputs": [
    {
     "data": {
      "text/plain": [
       "<seaborn.axisgrid.FacetGrid at 0x28248f850>"
      ]
     },
     "execution_count": 44,
     "metadata": {},
     "output_type": "execute_result"
    },
    {
     "data": {
      "image/png": "[encoded data removed]",
      "text/plain": [
       "<Figure size 500x500 with 1 Axes>"
      ]
     },
     "metadata": {},
     "output_type": "display_data"
    }
   ],
   "source": [
    "sns.displot(df['rent'], kde=True)"
   ]
  },
  {
   "cell_type": "markdown",
   "metadata": {},
   "source": [
    "**data correlation**"
   ]
  },
  {
   "cell_type": "code",
   "execution_count": 45,
   "metadata": {},
   "outputs": [
    {
     "data": {
      "text/html": [
       "<div>\n",
       "<style scoped>\n",
       "    .dataframe tbody tr th:only-of-type {\n",
       "        vertical-align: middle;\n",
       "    }\n",
       "\n",
       "    .dataframe tbody tr th {\n",
       "        vertical-align: top;\n",
       "    }\n",
       "\n",
       "    .dataframe thead th {\n",
       "        text-align: right;\n",
       "    }\n",
       "</style>\n",
       "<table border=\"1\" class=\"dataframe\">\n",
       "  <thead>\n",
       "    <tr style=\"text-align: right;\">\n",
       "      <th></th>\n",
       "      <th>latitude</th>\n",
       "      <th>longitude</th>\n",
       "      <th>gym</th>\n",
       "      <th>lift</th>\n",
       "      <th>swimming_pool</th>\n",
       "      <th>negotiable</th>\n",
       "      <th>property_size</th>\n",
       "      <th>property_age</th>\n",
       "      <th>bathroom</th>\n",
       "      <th>cup_board</th>\n",
       "      <th>floor</th>\n",
       "      <th>total_floor</th>\n",
       "      <th>balconies</th>\n",
       "      <th>rent</th>\n",
       "    </tr>\n",
       "  </thead>\n",
       "  <tbody>\n",
       "    <tr>\n",
       "      <th>latitude</th>\n",
       "      <td>1.000000</td>\n",
       "      <td>0.194640</td>\n",
       "      <td>0.034994</td>\n",
       "      <td>0.019427</td>\n",
       "      <td>0.034925</td>\n",
       "      <td>-0.009021</td>\n",
       "      <td>0.006234</td>\n",
       "      <td>0.030712</td>\n",
       "      <td>-0.008546</td>\n",
       "      <td>-0.003164</td>\n",
       "      <td>0.004273</td>\n",
       "      <td>-0.000630</td>\n",
       "      <td>0.049354</td>\n",
       "      <td>0.032816</td>\n",
       "    </tr>\n",
       "    <tr>\n",
       "      <th>longitude</th>\n",
       "      <td>0.194640</td>\n",
       "      <td>1.000000</td>\n",
       "      <td>0.245629</td>\n",
       "      <td>0.208098</td>\n",
       "      <td>0.229410</td>\n",
       "      <td>-0.024615</td>\n",
       "      <td>0.075694</td>\n",
       "      <td>-0.136020</td>\n",
       "      <td>0.095944</td>\n",
       "      <td>-0.004139</td>\n",
       "      <td>0.152519</td>\n",
       "      <td>0.201795</td>\n",
       "      <td>0.164931</td>\n",
       "      <td>0.163751</td>\n",
       "    </tr>\n",
       "    <tr>\n",
       "      <th>gym</th>\n",
       "      <td>0.034994</td>\n",
       "      <td>0.245629</td>\n",
       "      <td>1.000000</td>\n",
       "      <td>0.645250</td>\n",
       "      <td>0.768926</td>\n",
       "      <td>0.008446</td>\n",
       "      <td>0.290617</td>\n",
       "      <td>-0.179898</td>\n",
       "      <td>0.327705</td>\n",
       "      <td>-0.002622</td>\n",
       "      <td>0.392328</td>\n",
       "      <td>0.526395</td>\n",
       "      <td>0.415595</td>\n",
       "      <td>0.431574</td>\n",
       "    </tr>\n",
       "    <tr>\n",
       "      <th>lift</th>\n",
       "      <td>0.019427</td>\n",
       "      <td>0.208098</td>\n",
       "      <td>0.645250</td>\n",
       "      <td>1.000000</td>\n",
       "      <td>0.564135</td>\n",
       "      <td>0.010782</td>\n",
       "      <td>0.307506</td>\n",
       "      <td>-0.180953</td>\n",
       "      <td>0.366610</td>\n",
       "      <td>-0.003868</td>\n",
       "      <td>0.405196</td>\n",
       "      <td>0.530756</td>\n",
       "      <td>0.525742</td>\n",
       "      <td>0.461887</td>\n",
       "    </tr>\n",
       "    <tr>\n",
       "      <th>swimming_pool</th>\n",
       "      <td>0.034925</td>\n",
       "      <td>0.229410</td>\n",
       "      <td>0.768926</td>\n",
       "      <td>0.564135</td>\n",
       "      <td>1.000000</td>\n",
       "      <td>0.010602</td>\n",
       "      <td>0.284733</td>\n",
       "      <td>-0.167397</td>\n",
       "      <td>0.321073</td>\n",
       "      <td>-0.002194</td>\n",
       "      <td>0.434190</td>\n",
       "      <td>0.574590</td>\n",
       "      <td>0.382949</td>\n",
       "      <td>0.434513</td>\n",
       "    </tr>\n",
       "    <tr>\n",
       "      <th>negotiable</th>\n",
       "      <td>-0.009021</td>\n",
       "      <td>-0.024615</td>\n",
       "      <td>0.008446</td>\n",
       "      <td>0.010782</td>\n",
       "      <td>0.010602</td>\n",
       "      <td>1.000000</td>\n",
       "      <td>0.053548</td>\n",
       "      <td>0.039044</td>\n",
       "      <td>0.059255</td>\n",
       "      <td>0.004697</td>\n",
       "      <td>-0.012547</td>\n",
       "      <td>-0.002279</td>\n",
       "      <td>0.026671</td>\n",
       "      <td>0.062476</td>\n",
       "    </tr>\n",
       "    <tr>\n",
       "      <th>property_size</th>\n",
       "      <td>0.006234</td>\n",
       "      <td>0.075694</td>\n",
       "      <td>0.290617</td>\n",
       "      <td>0.307506</td>\n",
       "      <td>0.284733</td>\n",
       "      <td>0.053548</td>\n",
       "      <td>1.000000</td>\n",
       "      <td>-0.008382</td>\n",
       "      <td>0.595013</td>\n",
       "      <td>-0.002574</td>\n",
       "      <td>0.148087</td>\n",
       "      <td>0.226088</td>\n",
       "      <td>0.379641</td>\n",
       "      <td>0.588568</td>\n",
       "    </tr>\n",
       "    <tr>\n",
       "      <th>property_age</th>\n",
       "      <td>0.030712</td>\n",
       "      <td>-0.136020</td>\n",
       "      <td>-0.179898</td>\n",
       "      <td>-0.180953</td>\n",
       "      <td>-0.167397</td>\n",
       "      <td>0.039044</td>\n",
       "      <td>-0.008382</td>\n",
       "      <td>1.000000</td>\n",
       "      <td>-0.047170</td>\n",
       "      <td>0.004559</td>\n",
       "      <td>-0.192524</td>\n",
       "      <td>-0.231069</td>\n",
       "      <td>-0.108418</td>\n",
       "      <td>-0.010644</td>\n",
       "    </tr>\n",
       "    <tr>\n",
       "      <th>bathroom</th>\n",
       "      <td>-0.008546</td>\n",
       "      <td>0.095944</td>\n",
       "      <td>0.327705</td>\n",
       "      <td>0.366610</td>\n",
       "      <td>0.321073</td>\n",
       "      <td>0.059255</td>\n",
       "      <td>0.595013</td>\n",
       "      <td>-0.047170</td>\n",
       "      <td>1.000000</td>\n",
       "      <td>-0.006363</td>\n",
       "      <td>0.170998</td>\n",
       "      <td>0.265437</td>\n",
       "      <td>0.448805</td>\n",
       "      <td>0.677459</td>\n",
       "    </tr>\n",
       "    <tr>\n",
       "      <th>cup_board</th>\n",
       "      <td>-0.003164</td>\n",
       "      <td>-0.004139</td>\n",
       "      <td>-0.002622</td>\n",
       "      <td>-0.003868</td>\n",
       "      <td>-0.002194</td>\n",
       "      <td>0.004697</td>\n",
       "      <td>-0.002574</td>\n",
       "      <td>0.004559</td>\n",
       "      <td>-0.006363</td>\n",
       "      <td>1.000000</td>\n",
       "      <td>-0.002206</td>\n",
       "      <td>-0.003156</td>\n",
       "      <td>-0.006551</td>\n",
       "      <td>-0.001246</td>\n",
       "    </tr>\n",
       "    <tr>\n",
       "      <th>floor</th>\n",
       "      <td>0.004273</td>\n",
       "      <td>0.152519</td>\n",
       "      <td>0.392328</td>\n",
       "      <td>0.405196</td>\n",
       "      <td>0.434190</td>\n",
       "      <td>-0.012547</td>\n",
       "      <td>0.148087</td>\n",
       "      <td>-0.192524</td>\n",
       "      <td>0.170998</td>\n",
       "      <td>-0.002206</td>\n",
       "      <td>1.000000</td>\n",
       "      <td>0.710317</td>\n",
       "      <td>0.327175</td>\n",
       "      <td>0.306192</td>\n",
       "    </tr>\n",
       "    <tr>\n",
       "      <th>total_floor</th>\n",
       "      <td>-0.000630</td>\n",
       "      <td>0.201795</td>\n",
       "      <td>0.526395</td>\n",
       "      <td>0.530756</td>\n",
       "      <td>0.574590</td>\n",
       "      <td>-0.002279</td>\n",
       "      <td>0.226088</td>\n",
       "      <td>-0.231069</td>\n",
       "      <td>0.265437</td>\n",
       "      <td>-0.003156</td>\n",
       "      <td>0.710317</td>\n",
       "      <td>1.000000</td>\n",
       "      <td>0.361686</td>\n",
       "      <td>0.436940</td>\n",
       "    </tr>\n",
       "    <tr>\n",
       "      <th>balconies</th>\n",
       "      <td>0.049354</td>\n",
       "      <td>0.164931</td>\n",
       "      <td>0.415595</td>\n",
       "      <td>0.525742</td>\n",
       "      <td>0.382949</td>\n",
       "      <td>0.026671</td>\n",
       "      <td>0.379641</td>\n",
       "      <td>-0.108418</td>\n",
       "      <td>0.448805</td>\n",
       "      <td>-0.006551</td>\n",
       "      <td>0.327175</td>\n",
       "      <td>0.361686</td>\n",
       "      <td>1.000000</td>\n",
       "      <td>0.472205</td>\n",
       "    </tr>\n",
       "    <tr>\n",
       "      <th>rent</th>\n",
       "      <td>0.032816</td>\n",
       "      <td>0.163751</td>\n",
       "      <td>0.431574</td>\n",
       "      <td>0.461887</td>\n",
       "      <td>0.434513</td>\n",
       "      <td>0.062476</td>\n",
       "      <td>0.588568</td>\n",
       "      <td>-0.010644</td>\n",
       "      <td>0.677459</td>\n",
       "      <td>-0.001246</td>\n",
       "      <td>0.306192</td>\n",
       "      <td>0.436940</td>\n",
       "      <td>0.472205</td>\n",
       "      <td>1.000000</td>\n",
       "    </tr>\n",
       "  </tbody>\n",
       "</table>\n",
       "</div>"
      ],
      "text/plain": [
       "               latitude  longitude       gym      lift  swimming_pool  \\\n",
       "latitude       1.000000   0.194640  0.034994  0.019427       0.034925   \n",
       "longitude      0.194640   1.000000  0.245629  0.208098       0.229410   \n",
       "gym            0.034994   0.245629  1.000000  0.645250       0.768926   \n",
       "lift           0.019427   0.208098  0.645250  1.000000       0.564135   \n",
       "swimming_pool  0.034925   0.229410  0.768926  0.564135       1.000000   \n",
       "negotiable    -0.009021  -0.024615  0.008446  0.010782       0.010602   \n",
       "property_size  0.006234   0.075694  0.290617  0.307506       0.284733   \n",
       "property_age   0.030712  -0.136020 -0.179898 -0.180953      -0.167397   \n",
       "bathroom      -0.008546   0.095944  0.327705  0.366610       0.321073   \n",
       "cup_board     -0.003164  -0.004139 -0.002622 -0.003868      -0.002194   \n",
       "floor          0.004273   0.152519  0.392328  0.405196       0.434190   \n",
       "total_floor   -0.000630   0.201795  0.526395  0.530756       0.574590   \n",
       "balconies      0.049354   0.164931  0.415595  0.525742       0.382949   \n",
       "rent           0.032816   0.163751  0.431574  0.461887       0.434513   \n",
       "\n",
       "               negotiable  property_size  property_age  bathroom  cup_board  \\\n",
       "latitude        -0.009021       0.006234      0.030712 -0.008546  -0.003164   \n",
       "longitude       -0.024615       0.075694     -0.136020  0.095944  -0.004139   \n",
       "gym              0.008446       0.290617     -0.179898  0.327705  -0.002622   \n",
       "lift             0.010782       0.307506     -0.180953  0.366610  -0.003868   \n",
       "swimming_pool    0.010602       0.284733     -0.167397  0.321073  -0.002194   \n",
       "negotiable       1.000000       0.053548      0.039044  0.059255   0.004697   \n",
       "property_size    0.053548       1.000000     -0.008382  0.595013  -0.002574   \n",
       "property_age     0.039044      -0.008382      1.000000 -0.047170   0.004559   \n",
       "bathroom         0.059255       0.595013     -0.047170  1.000000  -0.006363   \n",
       "cup_board        0.004697      -0.002574      0.004559 -0.006363   1.000000   \n",
       "floor           -0.012547       0.148087     -0.192524  0.170998  -0.002206   \n",
       "total_floor     -0.002279       0.226088     -0.231069  0.265437  -0.003156   \n",
       "balconies        0.026671       0.379641     -0.108418  0.448805  -0.006551   \n",
       "rent             0.062476       0.588568     -0.010644  0.677459  -0.001246   \n",
       "\n",
       "                  floor  total_floor  balconies      rent  \n",
       "latitude       0.004273    -0.000630   0.049354  0.032816  \n",
       "longitude      0.152519     0.201795   0.164931  0.163751  \n",
       "gym            0.392328     0.526395   0.415595  0.431574  \n",
       "lift           0.405196     0.530756   0.525742  0.461887  \n",
       "swimming_pool  0.434190     0.574590   0.382949  0.434513  \n",
       "negotiable    -0.012547    -0.002279   0.026671  0.062476  \n",
       "property_size  0.148087     0.226088   0.379641  0.588568  \n",
       "property_age  -0.192524    -0.231069  -0.108418 -0.010644  \n",
       "bathroom       0.170998     0.265437   0.448805  0.677459  \n",
       "cup_board     -0.002206    -0.003156  -0.006551 -0.001246  \n",
       "floor          1.000000     0.710317   0.327175  0.306192  \n",
       "total_floor    0.710317     1.000000   0.361686  0.436940  \n",
       "balconies      0.327175     0.361686   1.000000  0.472205  \n",
       "rent           0.306192     0.436940   0.472205  1.000000  "
      ]
     },
     "execution_count": 45,
     "metadata": {},
     "output_type": "execute_result"
    }
   ],
   "source": [
    "df.corr(numeric_only=True)"
   ]
  },
  {
   "cell_type": "markdown",
   "metadata": {},
   "source": [
    "**heatmap of the data**"
   ]
  },
  {
   "cell_type": "code",
   "execution_count": 46,
   "metadata": {},
   "outputs": [
    {
     "data": {
      "text/plain": [
       "<Axes: >"
      ]
     },
     "execution_count": 46,
     "metadata": {},
     "output_type": "execute_result"
    },
    {
     "data": {
      "image/png": "[encoded data removed]",
      "text/plain": [
       "<Figure size 640x480 with 2 Axes>"
      ]
     },
     "metadata": {},
     "output_type": "display_data"
    }
   ],
   "source": [
    "sns.heatmap(df.corr(numeric_only=True))"
   ]
  },
  {
   "cell_type": "markdown",
   "metadata": {},
   "source": [
    "### Putting ameneties key-value pair in columns so we can predict the rent with better accuracy"
   ]
  },
  {
   "cell_type": "code",
   "execution_count": 47,
   "metadata": {},
   "outputs": [],
   "source": [
    "import json"
   ]
  },
  {
   "cell_type": "code",
   "execution_count": 48,
   "metadata": {},
   "outputs": [
    {
     "data": {
      "text/plain": [
       "0    {\"LIFT\":true,\"GYM\":true,\"INTERNET\":true,\"AC\":f...\n",
       "Name: amenities, dtype: object"
      ]
     },
     "execution_count": 48,
     "metadata": {},
     "output_type": "execute_result"
    }
   ],
   "source": [
    "df['amenities'].head(1)"
   ]
  },
  {
   "cell_type": "markdown",
   "metadata": {},
   "source": [
    "categorical dummies required!!!"
   ]
  },
  {
   "cell_type": "code",
   "execution_count": 50,
   "metadata": {},
   "outputs": [
    {
     "ename": "TypeError",
     "evalue": "the JSON object must be str, bytes or bytearray, not float",
     "output_type": "error",
     "traceback": [
      "\u001b[0;31m---------------------------------------------------------------------------\u001b[0m",
      "\u001b[0;31mTypeError\u001b[0m                                 Traceback (most recent call last)",
      "Cell \u001b[0;32mIn[50], line 8\u001b[0m\n\u001b[1;32m      6\u001b[0m     string \u001b[39m=\u001b[39m df[\u001b[39m'\u001b[39m\u001b[39mamenities\u001b[39m\u001b[39m'\u001b[39m][i]\n\u001b[1;32m      7\u001b[0m     \u001b[39m# convert dictionary string to dictionary\u001b[39;00m\n\u001b[0;32m----> 8\u001b[0m     res \u001b[39m=\u001b[39m json\u001b[39m.\u001b[39;49mloads(string)\n\u001b[1;32m     10\u001b[0m string \u001b[39m=\u001b[39m df[\u001b[39m'\u001b[39m\u001b[39mamenities\u001b[39m\u001b[39m'\u001b[39m][\u001b[39m0\u001b[39m]\n\u001b[1;32m     12\u001b[0m \u001b[39mtype\u001b[39m(string)\n",
      "File \u001b[0;32m/Library/Frameworks/Python.framework/Versions/3.11/lib/python3.11/json/__init__.py:339\u001b[0m, in \u001b[0;36mloads\u001b[0;34m(s, cls, object_hook, parse_float, parse_int, parse_constant, object_pairs_hook, **kw)\u001b[0m\n\u001b[1;32m    337\u001b[0m \u001b[39melse\u001b[39;00m:\n\u001b[1;32m    338\u001b[0m     \u001b[39mif\u001b[39;00m \u001b[39mnot\u001b[39;00m \u001b[39misinstance\u001b[39m(s, (\u001b[39mbytes\u001b[39m, \u001b[39mbytearray\u001b[39m)):\n\u001b[0;32m--> 339\u001b[0m         \u001b[39mraise\u001b[39;00m \u001b[39mTypeError\u001b[39;00m(\u001b[39mf\u001b[39m\u001b[39m'\u001b[39m\u001b[39mthe JSON object must be str, bytes or bytearray, \u001b[39m\u001b[39m'\u001b[39m\n\u001b[1;32m    340\u001b[0m                         \u001b[39mf\u001b[39m\u001b[39m'\u001b[39m\u001b[39mnot \u001b[39m\u001b[39m{\u001b[39;00ms\u001b[39m.\u001b[39m\u001b[39m__class__\u001b[39m\u001b[39m.\u001b[39m\u001b[39m__name__\u001b[39m\u001b[39m}\u001b[39;00m\u001b[39m'\u001b[39m)\n\u001b[1;32m    341\u001b[0m     s \u001b[39m=\u001b[39m s\u001b[39m.\u001b[39mdecode(detect_encoding(s), \u001b[39m'\u001b[39m\u001b[39msurrogatepass\u001b[39m\u001b[39m'\u001b[39m)\n\u001b[1;32m    343\u001b[0m \u001b[39mif\u001b[39;00m (\u001b[39mcls\u001b[39m \u001b[39mis\u001b[39;00m \u001b[39mNone\u001b[39;00m \u001b[39mand\u001b[39;00m object_hook \u001b[39mis\u001b[39;00m \u001b[39mNone\u001b[39;00m \u001b[39mand\u001b[39;00m\n\u001b[1;32m    344\u001b[0m         parse_int \u001b[39mis\u001b[39;00m \u001b[39mNone\u001b[39;00m \u001b[39mand\u001b[39;00m parse_float \u001b[39mis\u001b[39;00m \u001b[39mNone\u001b[39;00m \u001b[39mand\u001b[39;00m\n\u001b[1;32m    345\u001b[0m         parse_constant \u001b[39mis\u001b[39;00m \u001b[39mNone\u001b[39;00m \u001b[39mand\u001b[39;00m object_pairs_hook \u001b[39mis\u001b[39;00m \u001b[39mNone\u001b[39;00m \u001b[39mand\u001b[39;00m \u001b[39mnot\u001b[39;00m kw):\n",
      "\u001b[0;31mTypeError\u001b[0m: the JSON object must be str, bytes or bytearray, not float"
     ]
    }
   ],
   "source": [
    "numOfRows = len(df['amenities'])\n",
    "\n",
    "# code to put keys of ameneties into columns of main dataframe\n",
    "\n",
    "for i in range(numOfRows):\n",
    "    string = df['amenities'][i]\n",
    "    # convert dictionary string to dictionary\n",
    "    res = json.loads(string)\n",
    "\n",
    "string = df['amenities'][0]\n",
    "\n",
    "type(string)\n",
    "# # convert dictionary string to dictionary\n",
    "# res = json.loads(string)\n",
    "\n",
    "\n",
    "\n",
    "\n",
    "# print(res.keys())"
   ]
  },
  {
   "cell_type": "code",
   "execution_count": null,
   "metadata": {},
   "outputs": [],
   "source": [
    "amenities_arr = []\n",
    "\n",
    "numOfRows = len(df['amenities'])\n",
    "# code to put keys of ameneties into columns of main dataframe\n",
    "for i in range(numOfRows):\n",
    "    string = df['amenities'][i]\n",
    "    # convert dictionary string to dictionary\n",
    "    res = json.loads(string)\n",
    "    amenities_arr.append(res)"
   ]
  },
  {
   "cell_type": "code",
   "execution_count": null,
   "metadata": {},
   "outputs": [],
   "source": [
    "amenities_arr"
   ]
  },
  {
   "cell_type": "code",
   "execution_count": null,
   "metadata": {},
   "outputs": [],
   "source": [
    "df_amenities = pd.DataFrame(amenities_arr)\n",
    "df = pd.concat([df, df_amenities], axis=1)\n",
    "df.drop(['amenities'], axis=1, inplace=True)\n",
    "df.head()"
   ]
  },
  {
   "cell_type": "markdown",
   "metadata": {},
   "source": [
    "### Dropping NaN values as those are around 200 out of 20.5k values "
   ]
  },
  {
   "cell_type": "code",
   "execution_count": null,
   "metadata": {},
   "outputs": [],
   "source": [
    "dfresult = df.dropna()\n",
    "dfresult.info()\n",
    "\n",
    "# Reset index after drop\n",
    "df=dfresult.dropna().reset_index(drop=True)"
   ]
  },
  {
   "cell_type": "code",
   "execution_count": null,
   "metadata": {},
   "outputs": [],
   "source": [
    "# way to count the occurrences of a specific value in a pandas column\n",
    "count = df.isna().sum()\n",
    "\n",
    "print(count)"
   ]
  },
  {
   "cell_type": "markdown",
   "metadata": {},
   "source": [
    "now we have no nan values in our dataframe"
   ]
  },
  {
   "cell_type": "code",
   "execution_count": null,
   "metadata": {},
   "outputs": [],
   "source": [
    "def categoricalDummyReplacement(dataframeName, colName):\n",
    "\n",
    "    \n",
    "\n",
    "    return dataframeName"
   ]
  },
  {
   "cell_type": "markdown",
   "metadata": {},
   "source": [
    "### C0: id\n",
    "\n",
    "removing it because it plays no part in predicting the rent, instead it's just to identify particuler house available for the rent"
   ]
  },
  {
   "cell_type": "code",
   "execution_count": null,
   "metadata": {},
   "outputs": [],
   "source": [
    "df.drop(['id'], axis=1, inplace=True)"
   ]
  },
  {
   "cell_type": "markdown",
   "metadata": {},
   "source": [
    "### C1: type\n",
    "\n",
    "exists in different category, hence getting dummies for categories and replacing them in the dataframe\n"
   ]
  },
  {
   "cell_type": "code",
   "execution_count": null,
   "metadata": {},
   "outputs": [],
   "source": [
    "df['type'].unique()"
   ]
  },
  {
   "cell_type": "code",
   "execution_count": null,
   "metadata": {},
   "outputs": [],
   "source": [
    "sns.displot(df['type'], aspect=3)"
   ]
  },
  {
   "cell_type": "code",
   "execution_count": null,
   "metadata": {},
   "outputs": [],
   "source": [
    "# create dummy variables\n",
    "pd.get_dummies(df['type'], drop_first=True)"
   ]
  },
  {
   "cell_type": "code",
   "execution_count": null,
   "metadata": {},
   "outputs": [],
   "source": [
    "# Adding dummy column\n",
    "df = pd.concat([df, pd.get_dummies(df['type'], drop_first=True)], axis=1)"
   ]
  },
  {
   "cell_type": "code",
   "execution_count": null,
   "metadata": {},
   "outputs": [],
   "source": [
    "df.drop(['type'], axis=1, inplace=True)"
   ]
  },
  {
   "cell_type": "code",
   "execution_count": null,
   "metadata": {},
   "outputs": [],
   "source": [
    "df.head()"
   ]
  },
  {
   "cell_type": "markdown",
   "metadata": {},
   "source": [
    "### C2: locality "
   ]
  },
  {
   "cell_type": "code",
   "execution_count": null,
   "metadata": {},
   "outputs": [],
   "source": [
    "arr = df['locality'].unique()\n",
    "len(arr)"
   ]
  },
  {
   "cell_type": "code",
   "execution_count": null,
   "metadata": {},
   "outputs": [],
   "source": [
    "# # Adding dummy column\n",
    "# df = pd.concat([df, pd.get_dummies(df['locality'], drop_first=True)], axis=1)\n",
    "\n",
    "# above one; categorical values not possible as they are 1917\n",
    "\n",
    "# Dropping original column\n",
    "df.drop(['locality'], axis=1, inplace=True)\n"
   ]
  },
  {
   "cell_type": "code",
   "execution_count": null,
   "metadata": {},
   "outputs": [],
   "source": [
    "df.head()"
   ]
  },
  {
   "cell_type": "markdown",
   "metadata": {},
   "source": [
    "### C3: activation_date"
   ]
  },
  {
   "cell_type": "markdown",
   "metadata": {},
   "source": [
    "as date is not possible to visualise, will ignore this data"
   ]
  },
  {
   "cell_type": "code",
   "execution_count": null,
   "metadata": {},
   "outputs": [],
   "source": [
    "arr = df['activation_date'].unique()\n",
    "len(arr)"
   ]
  },
  {
   "cell_type": "code",
   "execution_count": null,
   "metadata": {},
   "outputs": [],
   "source": [
    "df.drop(['activation_date'], axis=1, inplace=True)"
   ]
  },
  {
   "cell_type": "markdown",
   "metadata": {},
   "source": [
    "### C4: lattitude"
   ]
  },
  {
   "cell_type": "code",
   "execution_count": null,
   "metadata": {},
   "outputs": [],
   "source": [
    "sns.jointplot(x='latitude', y='rent', data=df)"
   ]
  },
  {
   "cell_type": "markdown",
   "metadata": {},
   "source": [
    "### C5: longitude"
   ]
  },
  {
   "cell_type": "code",
   "execution_count": null,
   "metadata": {},
   "outputs": [],
   "source": [
    "sns.jointplot(x='latitude', y='rent', data=df)"
   ]
  },
  {
   "cell_type": "markdown",
   "metadata": {},
   "source": [
    "### C6: lease_type"
   ]
  },
  {
   "cell_type": "code",
   "execution_count": null,
   "metadata": {},
   "outputs": [],
   "source": [
    "arr = df['lease_type'].unique()\n",
    "len(arr)"
   ]
  },
  {
   "cell_type": "code",
   "execution_count": null,
   "metadata": {},
   "outputs": [],
   "source": [
    "# Adding dummy column\n",
    "df = pd.concat([df, pd.get_dummies(df['lease_type'], drop_first=True)], axis=1)\n",
    "# Dropping original column\n",
    "df.drop(['lease_type'], axis=1, inplace=True)"
   ]
  },
  {
   "cell_type": "code",
   "execution_count": null,
   "metadata": {},
   "outputs": [],
   "source": [
    "df.head()"
   ]
  },
  {
   "cell_type": "markdown",
   "metadata": {},
   "source": [
    "### C7: gym, C8: lift, C9: swimming_pool, C10: negotiable\n",
    "\n",
    "all are boolean values so requires no preprocessing"
   ]
  },
  {
   "cell_type": "markdown",
   "metadata": {},
   "source": [
    "### C11: furnishing"
   ]
  },
  {
   "cell_type": "code",
   "execution_count": null,
   "metadata": {},
   "outputs": [],
   "source": [
    "arr = df['furnishing'].unique()\n",
    "len(arr)"
   ]
  },
  {
   "cell_type": "code",
   "execution_count": null,
   "metadata": {},
   "outputs": [],
   "source": [
    "# Adding dummy column\n",
    "df = pd.concat([df, pd.get_dummies(df['furnishing'], drop_first=True)], axis=1)\n",
    "# Dropping original column\n",
    "df.drop(['furnishing'], axis=1, inplace=True)"
   ]
  },
  {
   "cell_type": "code",
   "execution_count": null,
   "metadata": {},
   "outputs": [],
   "source": [
    "df.head()"
   ]
  },
  {
   "cell_type": "markdown",
   "metadata": {},
   "source": [
    "### C11: parking"
   ]
  },
  {
   "cell_type": "code",
   "execution_count": null,
   "metadata": {},
   "outputs": [],
   "source": [
    "arr = df['parking'].unique()\n",
    "len(arr)"
   ]
  },
  {
   "cell_type": "code",
   "execution_count": null,
   "metadata": {},
   "outputs": [],
   "source": [
    "# Adding dummy column\n",
    "df = pd.concat([df, pd.get_dummies(df['parking'], drop_first=True)], axis=1)\n",
    "# Dropping original column\n",
    "df.drop(['parking'], axis=1, inplace=True)"
   ]
  },
  {
   "cell_type": "code",
   "execution_count": null,
   "metadata": {},
   "outputs": [],
   "source": [
    "df.head()"
   ]
  },
  {
   "cell_type": "markdown",
   "metadata": {},
   "source": [
    "### C12: property_size, C13: property_age, C14: bathroom "
   ]
  },
  {
   "cell_type": "markdown",
   "metadata": {},
   "source": [
    "all three columns are int values so requires no preprossesing "
   ]
  },
  {
   "cell_type": "markdown",
   "metadata": {},
   "source": [
    "### C15: facing"
   ]
  },
  {
   "cell_type": "code",
   "execution_count": null,
   "metadata": {},
   "outputs": [],
   "source": [
    "arr = df['facing'].unique()\n",
    "len(arr)"
   ]
  },
  {
   "cell_type": "code",
   "execution_count": null,
   "metadata": {},
   "outputs": [],
   "source": [
    "# Adding dummy column\n",
    "df = pd.concat([df, pd.get_dummies(df['facing'], drop_first=True)], axis=1)\n",
    "# Dropping original column\n",
    "df.drop(['facing'], axis=1, inplace=True)"
   ]
  },
  {
   "cell_type": "markdown",
   "metadata": {},
   "source": [
    "### C16: cup_board"
   ]
  },
  {
   "cell_type": "markdown",
   "metadata": {},
   "source": [
    "number of cup boards; ie numerical so no preprocessing required"
   ]
  },
  {
   "cell_type": "markdown",
   "metadata": {},
   "source": [
    "### C17: floor & C18: total_floor "
   ]
  },
  {
   "cell_type": "markdown",
   "metadata": {},
   "source": [
    "numerical values, hence no preprocessing"
   ]
  },
  {
   "cell_type": "markdown",
   "metadata": {},
   "source": [
    "### C19: amenities"
   ]
  },
  {
   "cell_type": "markdown",
   "metadata": {},
   "source": [
    "already done!"
   ]
  },
  {
   "cell_type": "markdown",
   "metadata": {},
   "source": [
    "### C20: water_supply"
   ]
  },
  {
   "cell_type": "code",
   "execution_count": null,
   "metadata": {},
   "outputs": [],
   "source": [
    "arr = df['water_supply'].unique()\n",
    "len(arr)"
   ]
  },
  {
   "cell_type": "code",
   "execution_count": null,
   "metadata": {},
   "outputs": [],
   "source": [
    "# Adding dummy column\n",
    "df = pd.concat([df, pd.get_dummies(df['water_supply'], drop_first=True)], axis=1)\n",
    "# Dropping original column\n",
    "df.drop(['water_supply'], axis=1, inplace=True)"
   ]
  },
  {
   "cell_type": "markdown",
   "metadata": {},
   "source": [
    "### C21: building_type"
   ]
  },
  {
   "cell_type": "code",
   "execution_count": null,
   "metadata": {},
   "outputs": [],
   "source": [
    "arr = df['building_type'].unique()\n",
    "len(arr)"
   ]
  },
  {
   "cell_type": "code",
   "execution_count": null,
   "metadata": {},
   "outputs": [],
   "source": [
    "# Adding dummy column\n",
    "df = pd.concat([df, pd.get_dummies(df['building_type'], drop_first=True)], axis=1)\n",
    "# Dropping original column\n",
    "df.drop(['building_type'], axis=1, inplace=True)"
   ]
  },
  {
   "cell_type": "markdown",
   "metadata": {},
   "source": [
    "### C22: balconies"
   ]
  },
  {
   "cell_type": "markdown",
   "metadata": {},
   "source": [
    "numerical values => no data preprocessing"
   ]
  },
  {
   "cell_type": "markdown",
   "metadata": {},
   "source": [
    "## Model Train"
   ]
  },
  {
   "cell_type": "markdown",
   "metadata": {},
   "source": [
    "### X and y define"
   ]
  },
  {
   "cell_type": "code",
   "execution_count": null,
   "metadata": {},
   "outputs": [],
   "source": [
    "df.columns"
   ]
  },
  {
   "cell_type": "code",
   "execution_count": null,
   "metadata": {},
   "outputs": [],
   "source": [
    "from sklearn.linear_model import LinearRegression\n",
    "model = LinearRegression()\n",
    "\n",
    "X = df[df.columns.drop('rent')]\n",
    "y = df['rent']"
   ]
  },
  {
   "cell_type": "code",
   "execution_count": null,
   "metadata": {},
   "outputs": [],
   "source": [
    "X"
   ]
  },
  {
   "cell_type": "code",
   "execution_count": null,
   "metadata": {},
   "outputs": [],
   "source": [
    "count = df.isna().sum()\n",
    "print(count)"
   ]
  },
  {
   "cell_type": "code",
   "execution_count": null,
   "metadata": {},
   "outputs": [],
   "source": [
    "dfresult = df.dropna()\n",
    "dfresult.info()\n",
    "\n",
    "# Reset index after drop\n",
    "df=dfresult.dropna().reset_index(drop=True)"
   ]
  },
  {
   "cell_type": "code",
   "execution_count": null,
   "metadata": {},
   "outputs": [],
   "source": [
    "count = df.isna().sum()\n",
    "print(count)"
   ]
  },
  {
   "cell_type": "code",
   "execution_count": null,
   "metadata": {},
   "outputs": [],
   "source": [
    "df.tail()"
   ]
  },
  {
   "cell_type": "code",
   "execution_count": null,
   "metadata": {},
   "outputs": [],
   "source": [
    "model.fit(X, y)"
   ]
  }
 ],
 "metadata": {
  "kernelspec": {
   "display_name": "Python 3",
   "language": "python",
   "name": "python3"
  },
  "language_info": {
   "codemirror_mode": {
    "name": "ipython",
    "version": 3
   },
   "file_extension": ".py",
   "mimetype": "text/x-python",
   "name": "python",
   "nbconvert_exporter": "python",
   "pygments_lexer": "ipython3",
   "version": "3.11.0"
  },
  "orig_nbformat": 4
 },
 "nbformat": 4,
 "nbformat_minor": 2
}
